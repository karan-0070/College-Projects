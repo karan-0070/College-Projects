{
  "nbformat": 4,
  "nbformat_minor": 0,
  "metadata": {
    "colab": {
      "name": "CSE PROJECT.ipynb",
      "provenance": [],
      "authorship_tag": "ABX9TyOGrcpyYxCKdtiqgFzMf65Y",
      "include_colab_link": true
    },
    "kernelspec": {
      "name": "python3",
      "display_name": "Python 3"
    },
    "language_info": {
      "name": "python"
    }
  },
  "cells": [
    {
      "cell_type": "markdown",
      "metadata": {
        "id": "view-in-github",
        "colab_type": "text"
      },
      "source": [
        "<a href=\"https://colab.research.google.com/github/karan-0070/College-Projects/blob/main/CSE_PROJECT.ipynb\" target=\"_parent\"><img src=\"https://colab.research.google.com/assets/colab-badge.svg\" alt=\"Open In Colab\"/></a>"
      ]
    },
    {
      "cell_type": "code",
      "metadata": {
        "colab": {
          "base_uri": "https://localhost:8080/"
        },
        "id": "JpCl8vTjij7A",
        "outputId": "deaa2653-cfa4-48f9-de2b-82ce2d833db4"
      },
      "source": [
        "!pip install ipython-autotime\n",
        "%load_ext autotime"
      ],
      "execution_count": null,
      "outputs": [
        {
          "output_type": "stream",
          "text": [
            "Requirement already satisfied: ipython-autotime in /usr/local/lib/python3.7/dist-packages (0.3.1)\n",
            "Requirement already satisfied: ipython in /usr/local/lib/python3.7/dist-packages (from ipython-autotime) (5.5.0)\n",
            "Requirement already satisfied: pexpect; sys_platform != \"win32\" in /usr/local/lib/python3.7/dist-packages (from ipython->ipython-autotime) (4.8.0)\n",
            "Requirement already satisfied: prompt-toolkit<2.0.0,>=1.0.4 in /usr/local/lib/python3.7/dist-packages (from ipython->ipython-autotime) (1.0.18)\n",
            "Requirement already satisfied: setuptools>=18.5 in /usr/local/lib/python3.7/dist-packages (from ipython->ipython-autotime) (56.1.0)\n",
            "Requirement already satisfied: simplegeneric>0.8 in /usr/local/lib/python3.7/dist-packages (from ipython->ipython-autotime) (0.8.1)\n",
            "Requirement already satisfied: traitlets>=4.2 in /usr/local/lib/python3.7/dist-packages (from ipython->ipython-autotime) (5.0.5)\n",
            "Requirement already satisfied: pickleshare in /usr/local/lib/python3.7/dist-packages (from ipython->ipython-autotime) (0.7.5)\n",
            "Requirement already satisfied: pygments in /usr/local/lib/python3.7/dist-packages (from ipython->ipython-autotime) (2.6.1)\n",
            "Requirement already satisfied: decorator in /usr/local/lib/python3.7/dist-packages (from ipython->ipython-autotime) (4.4.2)\n",
            "Requirement already satisfied: ptyprocess>=0.5 in /usr/local/lib/python3.7/dist-packages (from pexpect; sys_platform != \"win32\"->ipython->ipython-autotime) (0.7.0)\n",
            "Requirement already satisfied: wcwidth in /usr/local/lib/python3.7/dist-packages (from prompt-toolkit<2.0.0,>=1.0.4->ipython->ipython-autotime) (0.2.5)\n",
            "Requirement already satisfied: six>=1.9.0 in /usr/local/lib/python3.7/dist-packages (from prompt-toolkit<2.0.0,>=1.0.4->ipython->ipython-autotime) (1.15.0)\n",
            "Requirement already satisfied: ipython-genutils in /usr/local/lib/python3.7/dist-packages (from traitlets>=4.2->ipython->ipython-autotime) (0.2.0)\n",
            "The autotime extension is already loaded. To reload it, use:\n",
            "  %reload_ext autotime\n",
            "time: 2.64 s (started: 2021-05-13 03:08:44 +00:00)\n"
          ],
          "name": "stdout"
        }
      ]
    },
    {
      "cell_type": "code",
      "metadata": {
        "colab": {
          "base_uri": "https://localhost:8080/"
        },
        "id": "oeo-xlz8i53f",
        "outputId": "1e4b285c-2b1f-47ea-e478-fe6f7a45e0fa"
      },
      "source": [
        "!pip install bing-image-downloader"
      ],
      "execution_count": null,
      "outputs": [
        {
          "output_type": "stream",
          "text": [
            "Collecting bing-image-downloader\n",
            "  Downloading https://files.pythonhosted.org/packages/0d/bf/537a61030b84ae4cd5022d5c7b014fd9bc3ce7c02358919153a6658a61d3/bing_image_downloader-1.0.4-py3-none-any.whl\n",
            "Installing collected packages: bing-image-downloader\n",
            "Successfully installed bing-image-downloader-1.0.4\n",
            "time: 2.83 s (started: 2021-05-13 03:08:48 +00:00)\n"
          ],
          "name": "stdout"
        }
      ]
    },
    {
      "cell_type": "code",
      "metadata": {
        "colab": {
          "base_uri": "https://localhost:8080/"
        },
        "id": "_HCnVDYJi-G6",
        "outputId": "bd3fe728-2ed1-43ab-d430-dec4150bfc02"
      },
      "source": [
        "!mkdir images"
      ],
      "execution_count": null,
      "outputs": [
        {
          "output_type": "stream",
          "text": [
            "time: 114 ms (started: 2021-05-13 03:08:54 +00:00)\n"
          ],
          "name": "stdout"
        }
      ]
    },
    {
      "cell_type": "code",
      "metadata": {
        "colab": {
          "base_uri": "https://localhost:8080/"
        },
        "id": "BqdC_yZQi_Mo",
        "outputId": "3296580d-dc16-4062-d2d2-13369516fa40"
      },
      "source": [
        "from bing_image_downloader import downloader\n",
        "downloader.download(\"Super Cars\",limit=30,output_dir='images',adult_filter_off=True) "
      ],
      "execution_count": null,
      "outputs": [
        {
          "output_type": "stream",
          "text": [
            "\n",
            "\n",
            "[!!]Indexing page: 1\n",
            "\n",
            "[%] Indexed 30 Images on Page 1.\n",
            "\n",
            "===============================================\n",
            "\n",
            "[%] Downloading Image #1 from https://www.topgear.com/sites/default/files/styles/16x9_1280w/public/news-listicle/image/2019/07/4u4a2131.jpg?itok=UOhMirBk\n",
            "[%] File Downloaded !\n",
            "\n",
            "[%] Downloading Image #2 from https://ccnwordpress.blob.core.windows.net/journal/2018/02/e53b05e65a21451074d0b8bc4cad83cad2e391ef.jpg\n",
            "[%] File Downloaded !\n",
            "\n",
            "[%] Downloading Image #3 from https://oddslifenetstorage.blob.core.windows.net/esportsinsider/2020/03/Supercars-Eseries.jpg\n",
            "[!] Issue getting: https://oddslifenetstorage.blob.core.windows.net/esportsinsider/2020/03/Supercars-Eseries.jpg\n",
            "[!] Error:: HTTP Error 404: The specified resource does not exist.\n",
            "[%] Downloading Image #3 from https://static2.hotcarsimages.com/wordpress/wp-content/uploads/2019/07/Supercars-2019-Header.jpg\n",
            "[Error]Invalid image, not saving https://static2.hotcarsimages.com/wordpress/wp-content/uploads/2019/07/Supercars-2019-Header.jpg\n",
            "\n",
            "[!] Issue getting: https://static2.hotcarsimages.com/wordpress/wp-content/uploads/2019/07/Supercars-2019-Header.jpg\n",
            "[!] Error:: No active exception to reraise\n",
            "[%] Downloading Image #3 from https://static0.thethingsimages.com/wordpress/wp-content/uploads/2020/01/20-Brand-New-Supercars-You-NEED-To-Know-About-For-2020-1.jpg\n",
            "[%] File Downloaded !\n",
            "\n",
            "[%] Downloading Image #4 from https://gearpatrol.com/wp-content/uploads/2018/09/Five-Entry-Supercars-Gear-Patrol-NSX.jpg\n",
            "[%] File Downloaded !\n",
            "\n",
            "[%] Downloading Image #5 from https://www.jato.com/wp-content/uploads/2017/12/25.jpg\n",
            "[%] File Downloaded !\n",
            "\n",
            "[%] Downloading Image #6 from https://www.luxurysafes.me/blog/wp-content/uploads/2019/12/featured-14.jpg\n",
            "[%] File Downloaded !\n",
            "\n",
            "[%] Downloading Image #7 from https://ministryofsport.com.au/wp-content/uploads/2019/12/bmw-supercars.jpg\n",
            "[%] File Downloaded !\n",
            "\n",
            "[%] Downloading Image #8 from https://icdn-5.motor1.com/images/mgl/rAwNr/s1/7-supercars-that-look-gorgeous-in-yellow.jpg\n",
            "[%] File Downloaded !\n",
            "\n",
            "[%] Downloading Image #9 from https://static3.hotcarsimages.com/wordpress/wp-content/uploads/2020/10/Lotus-Evija-Report-00.jpg\n",
            "[%] File Downloaded !\n",
            "\n",
            "[%] Downloading Image #10 from https://static1.hotcarsimages.com/wordpress/wp-content/uploads/2021/01/2020mclaren720s-e1610382567507.jpg\n",
            "[Error]Invalid image, not saving https://static1.hotcarsimages.com/wordpress/wp-content/uploads/2021/01/2020mclaren720s-e1610382567507.jpg\n",
            "\n",
            "[!] Issue getting: https://static1.hotcarsimages.com/wordpress/wp-content/uploads/2021/01/2020mclaren720s-e1610382567507.jpg\n",
            "[!] Error:: No active exception to reraise\n",
            "[%] Downloading Image #10 from https://americansupercars.com/wp-content/uploads/2017/07/ford-gt-guide.jpg\n",
            "[%] File Downloaded !\n",
            "\n",
            "[%] Downloading Image #11 from http://automotiveblog.co.uk/wp-content/uploads/2019/03/Lamborghini-Veneno.jpg\n",
            "[%] File Downloaded !\n",
            "\n",
            "[%] Downloading Image #12 from https://i.ytimg.com/vi/K1kSqYHe2OY/maxresdefault.jpg\n",
            "[%] File Downloaded !\n",
            "\n",
            "[%] Downloading Image #13 from http://www.autoguide.com/blog/wp-content/uploads/2016/01/Ford-GT.jpg\n",
            "[%] File Downloaded !\n",
            "\n",
            "[%] Downloading Image #14 from https://i.ytimg.com/vi/oihQZoJoq60/maxresdefault.jpg\n",
            "[%] File Downloaded !\n",
            "\n",
            "[%] Downloading Image #15 from https://www.brandsynario.com/wp-content/uploads/2020/04/rare-supercars.png\n",
            "[%] File Downloaded !\n",
            "\n",
            "[%] Downloading Image #16 from https://media.autoexpress.co.uk/image/private/s--hGFijRQu--/v1563183352/autoexpress/2018/01/1_header_0.jpg\n",
            "[%] File Downloaded !\n",
            "\n",
            "[%] Downloading Image #17 from https://www.performance-car-guide.co.uk/wp-content/uploads/2017/05/We-Need-Your-Supercars-At-Supercar-Solstice-2017-1.jpg\n",
            "[%] File Downloaded !\n",
            "\n",
            "[%] Downloading Image #18 from https://static.goodwood.com/globalassets/.road--racing/road/news/2020/4-april/best-seventies-supercars/best-seventies-supercars-1-maserati-bora-goodwood-29042020.jpg?crop=(0,273,2600,1736)&amp;width=1600\n",
            "[%] File Downloaded !\n",
            "\n",
            "[%] Downloading Image #19 from https://ccnwordpress.blob.core.windows.net/journal/2018/11/1971-Lamborghini-Miura-P400-SV-by-Bertone_0.jpg\n",
            "[%] File Downloaded !\n",
            "\n",
            "[%] Downloading Image #20 from https://www.supercars.net/blog/wp-content/uploads/2016/09/row_9371.jpg\n",
            "[%] File Downloaded !\n",
            "\n",
            "[%] Downloading Image #21 from https://wtop.com/wp-content/uploads/2017/10/102617_supercars_8.jpg\n",
            "[%] File Downloaded !\n",
            "\n",
            "[%] Downloading Image #22 from https://static0.hotcarsimages.com/wordpress/wp-content/uploads/2019/09/0-Arrinera-Hussarya-GT.jpg\n",
            "[Error]Invalid image, not saving https://static0.hotcarsimages.com/wordpress/wp-content/uploads/2019/09/0-Arrinera-Hussarya-GT.jpg\n",
            "\n",
            "[!] Issue getting: https://static0.hotcarsimages.com/wordpress/wp-content/uploads/2019/09/0-Arrinera-Hussarya-GT.jpg\n",
            "[!] Error:: No active exception to reraise\n",
            "[%] Downloading Image #22 from https://www.topgear.com/sites/default/files/images/news-article/2017/09/295bb173edf8b455b032c55c8959fafb/img_4227.jpg\n",
            "[%] File Downloaded !\n",
            "\n",
            "[%] Downloading Image #23 from https://static0.thethingsimages.com/wordpress/wp-content/uploads/2020/01/15-New-Supercars-That-Could-Be-Real-Life-Batmobiles-1.jpg\n",
            "[%] File Downloaded !\n",
            "\n",
            "[%] Downloading Image #24 from https://i0.wp.com/www.motoringresearch.com/wp-content/uploads/2017/09/18_The_Best_Cars.jpg?fit=1366%2C768&amp;ssl=1\n",
            "[%] File Downloaded !\n",
            "\n",
            "[%] Downloading Image #25 from https://cdn.hiconsumption.com/wp-content/uploads/2020/02/2015-Bugatti-Concept-Supercars-0-Hero.jpg\n",
            "[%] File Downloaded !\n",
            "\n",
            "[%] Downloading Image #26 from https://cdn.motor1.com/images/mgl/Y6rky/s1/7-supercars-that-look-gorgeous-in-yellow.jpg\n",
            "[%] File Downloaded !\n",
            "\n",
            "\n",
            "\n",
            "[!!]Indexing page: 2\n",
            "\n",
            "[%] Indexed 35 Images on Page 2.\n",
            "\n",
            "===============================================\n",
            "\n",
            "[%] Downloading Image #27 from https://www.topgear.com/sites/default/files/styles/16x9_1280w/public/news-listicle/image/2019/07/4u4a2131.jpg?itok=UOhMirBk\n",
            "[%] File Downloaded !\n",
            "\n",
            "[%] Downloading Image #28 from https://i1.wp.com/www.motoringresearch.com/wp-content/uploads/2018/03/011_Supercars_Zenvo_TSR-S.jpg?resize=1366%2C768&amp;ssl=1\n",
            "[%] File Downloaded !\n",
            "\n",
            "[%] Downloading Image #29 from https://luxurylaunches.com/wp-content/uploads/2020/12/most-iconic-super-cars-of-the-decade.jpg\n",
            "[%] File Downloaded !\n",
            "\n",
            "[%] Downloading Image #30 from https://ccnwordpress.blob.core.windows.net/journal/2018/02/e53b05e65a21451074d0b8bc4cad83cad2e391ef.jpg\n",
            "[%] File Downloaded !\n",
            "\n",
            "\n",
            "\n",
            "[%] Done. Downloaded 30 images.\n",
            "\n",
            "===============================================\n",
            "\n",
            "time: 32.1 s (started: 2021-05-13 03:08:57 +00:00)\n"
          ],
          "name": "stdout"
        }
      ]
    },
    {
      "cell_type": "code",
      "metadata": {
        "colab": {
          "base_uri": "https://localhost:8080/"
        },
        "id": "VP5svoQFjH6V",
        "outputId": "7c5e01b8-7a95-4630-f761-cd7a701c4420"
      },
      "source": [
        "from bing_image_downloader import downloader\n",
        "downloader.download(\"Dirt Bikes\",limit=30,output_dir='images',adult_filter_off=True)"
      ],
      "execution_count": null,
      "outputs": [
        {
          "output_type": "stream",
          "text": [
            "\n",
            "\n",
            "[!!]Indexing page: 1\n",
            "\n",
            "[%] Indexed 30 Images on Page 1.\n",
            "\n",
            "===============================================\n",
            "\n",
            "[%] Downloading Image #1 from http://getwallpapers.com/wallpaper/full/b/a/0/647920.jpg\n",
            "[%] File Downloaded !\n",
            "\n",
            "[%] Downloading Image #2 from http://getwallpapers.com/wallpaper/full/7/2/9/289046.jpg\n",
            "[%] File Downloaded !\n",
            "\n",
            "[%] Downloading Image #3 from https://www.ktmatvhq.com/forum/attachments/pictures-videos/5762d1337396004-new-dirt-bike-new-pics-orange-course-img_1334.jpg\n",
            "[%] File Downloaded !\n",
            "\n",
            "[%] Downloading Image #4 from http://dirtbikemagazine.com/wp-content/uploads/2016/08/35-TM-250MXweb.jpg\n",
            "[%] File Downloaded !\n",
            "\n",
            "[%] Downloading Image #5 from http://getwallpapers.com/wallpaper/full/d/3/0/162408.jpg\n",
            "[%] File Downloaded !\n",
            "\n",
            "[%] Downloading Image #6 from http://getwallpapers.com/wallpaper/full/8/4/e/259304.jpg\n",
            "[%] File Downloaded !\n",
            "\n",
            "[%] Downloading Image #7 from https://dirtbikemagazine.com/wp-content/uploads/2014/09/DSC_0010.jpg\n",
            "[%] File Downloaded !\n",
            "\n",
            "[%] Downloading Image #8 from https://dirtbikemagazine.com/wp-content/uploads/2014/11/Freerockweb.jpg\n",
            "[%] File Downloaded !\n",
            "\n",
            "[%] Downloading Image #9 from https://www.ebikesbyrevolve.com/wp-content/uploads/2019/02/Rush-Electric-Dirt-Bike.jpg\n",
            "[%] File Downloaded !\n",
            "\n",
            "[%] Downloading Image #10 from https://gearpatrol.com/wp-content/uploads/2019/08/Supreme-Honda-Dirt-Bike-gear-patrol-lead-full.jpg\n",
            "[%] File Downloaded !\n",
            "\n",
            "[%] Downloading Image #11 from http://www.dicksracing.com/assets/images/DSC03835.JPG\n",
            "[%] File Downloaded !\n",
            "\n",
            "[%] Downloading Image #12 from https://www.bikescatalog.com/wp-content/uploads/2016/12/KTM-dirt-bike.jpg\n",
            "[%] File Downloaded !\n",
            "\n",
            "[%] Downloading Image #13 from https://dirtbikesam.com/wp-content/uploads/2020/01/Dirt-Bike-Sam-Sam-Oldham-dirt-bikes.jpg\n",
            "[%] File Downloaded !\n",
            "\n",
            "[%] Downloading Image #14 from https://www.ktmatvhq.com/forum/attachments/pictures-videos/5763d1337396067-new-dirt-bike-new-pics-orange-course-img_1346.jpg\n",
            "[%] File Downloaded !\n",
            "\n",
            "[%] Downloading Image #15 from https://cdn.motor1.com/images/mgl/yqgy7/s1/the-fastest-dirt-bike-in-the-world.jpg\n",
            "[%] File Downloaded !\n",
            "\n",
            "[%] Downloading Image #16 from https://dirtbikemagazine.com/wp-content/uploads/2016/07/DSC_1020.jpg\n",
            "[%] File Downloaded !\n",
            "\n",
            "[%] Downloading Image #17 from http://windygapope.com/wp-content/uploads/2017/11/20170930_125220-1.jpg\n",
            "[%] File Downloaded !\n",
            "\n",
            "[%] Downloading Image #18 from https://www.dirtrider.com/resizer/UUxCYmZhh-lXpqGtL0u2NdSK-5s=/1200x628/smart/arc-anglerfish-arc2-prod-bonnier.s3.amazonaws.com/public/RY2443CAVFFIXOSXSCICEL3AUQ.jpg\n",
            "[%] File Downloaded !\n",
            "\n",
            "[%] Downloading Image #19 from https://electrek.co/wp-content/uploads/sites/3/2020/08/yamaha-emx-header.jpg?quality=82&amp;strip=all&amp;w=1600\n",
            "[%] File Downloaded !\n",
            "\n",
            "[%] Downloading Image #20 from https://www.pioneerpowersports.com/wp-content/uploads/2019/12/NEW-APOLLO-DIRT-BIKE-3__65503__70697.1568620137.jpg\n",
            "[%] File Downloaded !\n",
            "\n",
            "[%] Downloading Image #21 from https://s1.cdn.autoevolution.com/images/news/gallery/ktms-electric-freeride-dirt-bike-delivers-instant-torque-and-pure-joy_1.jpg\n",
            "[%] File Downloaded !\n",
            "\n",
            "[%] Downloading Image #22 from https://manofmany.com/wp-content/uploads/2020/02/Best-Electric-Dirt-bikes-Kuberg-FreeRider.jpg\n",
            "[%] File Downloaded !\n",
            "\n",
            "[%] Downloading Image #23 from https://www.dallaspowersport.com/wp-content/uploads/2020/06/Hawk-Enduro-250cc-Dirt-Bike-gn2.jpg\n",
            "[%] File Downloaded !\n",
            "\n",
            "[%] Downloading Image #24 from https://cdn.shopify.com/s/files/1/0004/4259/7407/products/DBX1_BlackFRS_1024x1024@2x.jpg?v=1550101646\n",
            "[%] File Downloaded !\n",
            "\n",
            "[%] Downloading Image #25 from http://www.ficsmotorcycles.co.uk/wp-content/uploads/2015/10/cobra-green-1.jpg\n",
            "[!] Issue getting: http://www.ficsmotorcycles.co.uk/wp-content/uploads/2015/10/cobra-green-1.jpg\n",
            "[!] Error:: HTTP Error 403: Forbidden\n",
            "[%] Downloading Image #25 from https://motorbikewriter.com/wp-content/uploads/2020/10/2021_WR450F_LGG_AUS_STA_016-1536x1024-1.jpg\n",
            "[%] File Downloaded !\n",
            "\n",
            "[%] Downloading Image #26 from https://dirtbikemagazine.com/wp-content/uploads/2017/05/JaysKTM.jpg\n",
            "[%] File Downloaded !\n",
            "\n",
            "[%] Downloading Image #27 from https://www.funbikes.co.uk/upload/images/a8c95f5b-5dbf-498c-8ed4-0380a24b38ad.jpg\n",
            "[%] File Downloaded !\n",
            "\n",
            "[%] Downloading Image #28 from https://dirtbikemagazine.com/wp-content/uploads/2017/04/Bollinger-RFoutsideweb.jpg\n",
            "[%] File Downloaded !\n",
            "\n",
            "[%] Downloading Image #29 from https://cdn.luxatic.com/wp-content/uploads/2020/11/Alta-Motors-Redshift-MX-Electric-Dirt-Bike.jpg\n",
            "[%] File Downloaded !\n",
            "\n",
            "\n",
            "\n",
            "[!!]Indexing page: 2\n",
            "\n",
            "[%] Indexed 35 Images on Page 2.\n",
            "\n",
            "===============================================\n",
            "\n",
            "[%] Downloading Image #30 from http://getwallpapers.com/wallpaper/full/7/2/9/289046.jpg\n",
            "[%] File Downloaded !\n",
            "\n",
            "\n",
            "\n",
            "[%] Done. Downloaded 30 images.\n",
            "\n",
            "===============================================\n",
            "\n",
            "time: 14.1 s (started: 2021-05-13 03:09:35 +00:00)\n"
          ],
          "name": "stdout"
        }
      ]
    },
    {
      "cell_type": "code",
      "metadata": {
        "colab": {
          "base_uri": "https://localhost:8080/"
        },
        "id": "yS9Ln8OfjSYd",
        "outputId": "47bbf425-ee22-40e8-b071-d1c8b2143bd6"
      },
      "source": [
        "from bing_image_downloader import downloader\n",
        "downloader.download(\"Colorful Umbrellas\",limit=30,output_dir='images',adult_filter_off=True)"
      ],
      "execution_count": null,
      "outputs": [
        {
          "output_type": "stream",
          "text": [
            "\n",
            "\n",
            "[!!]Indexing page: 1\n",
            "\n",
            "[%] Indexed 30 Images on Page 1.\n",
            "\n",
            "===============================================\n",
            "\n",
            "[%] Downloading Image #1 from https://images5.alphacoders.com/102/1020345.jpg\n",
            "[!] Issue getting: https://images5.alphacoders.com/102/1020345.jpg\n",
            "[!] Error:: HTTP Error 403: Forbidden\n",
            "[%] Downloading Image #1 from http://2.bp.blogspot.com/-5sEvUJ-8_pg/USuneiV9XuI/AAAAAAAATuc/pt6j6lDg6ps/s1600/Colorful+Umbrellas+Wallpapers+7.jpg\n",
            "[%] File Downloaded !\n",
            "\n",
            "[%] Downloading Image #2 from https://c.stocksy.com/a/ewX900/z9/2275440.jpg?1559337001\n",
            "[%] File Downloaded !\n",
            "\n",
            "[%] Downloading Image #3 from https://4.bp.blogspot.com/-hj4z_Ax1G6Q/USunJ1gDtCI/AAAAAAAATt8/jd0j0K-lzD8/s1600/Colorful+Umbrellas+Wallpapers+1.jpg\n",
            "[%] File Downloaded !\n",
            "\n",
            "[%] Downloading Image #4 from http://picalls.com/wp-content/uploads/2016/01/Colorful-umbrella.jpg\n",
            "[%] File Downloaded !\n",
            "\n",
            "[%] Downloading Image #5 from http://mat2.materialicious.com/images/new-floating-colorful-umbrellas-in-agueda-by-ivo-tavares-o.jpg\n",
            "[%] File Downloaded !\n",
            "\n",
            "[%] Downloading Image #6 from https://www.thebalancesmb.com/thmb/U5XLEO1vrOIQ22L_VA3b16MrxMc=/2121x1414/filters:no_upscale():max_bytes(150000):strip_icc()/GettyImages-669360624-5b6b58e4c9e77c00501e4416.jpg\n",
            "[%] File Downloaded !\n",
            "\n",
            "[%] Downloading Image #7 from https://images.pexels.com/photos/2264022/pexels-photo-2264022.jpeg?cs=srgb&amp;dl=color-rainbow-colors-umbrellas-2264022.jpg&amp;fm=jpg\n",
            "[%] File Downloaded !\n",
            "\n",
            "[%] Downloading Image #8 from https://www.hdwallpapers.in/download/colorful_umbrellas_4k_2-2560x2560.jpg\n",
            "[%] File Downloaded !\n",
            "\n",
            "[%] Downloading Image #9 from https://images.pexels.com/photos/1486861/pexels-photo-1486861.jpeg?cs=srgb&amp;dl=assorted-color-umbrellas-1486861.jpg&amp;fm=jpg\n",
            "[%] File Downloaded !\n",
            "\n",
            "[%] Downloading Image #10 from http://bgwall.net/wp-content/uploads/2014/09/colorful-umbrellas-wallpaper-widescreen.jpg\n",
            "[%] File Downloaded !\n",
            "\n",
            "[%] Downloading Image #11 from http://www.worldfortravel.com/wp-content/uploads/2014/09/Umbrella-Festival-Agueda-Portugal.jpg\n",
            "[%] File Downloaded !\n",
            "\n",
            "[%] Downloading Image #12 from https://www.hdwallpapers.in/download/colorful_umbrellas_4k-1080x1920.jpg\n",
            "[%] File Downloaded !\n",
            "\n",
            "[%] Downloading Image #13 from https://images.pexels.com/photos/365268/pexels-photo-365268.jpeg?cs=srgb&amp;dl=assorted-color-umbrella-lot-365268.jpg&amp;fm=jpg\n",
            "[%] File Downloaded !\n",
            "\n",
            "[%] Downloading Image #14 from https://hdwallpaperim.com/wp-content/uploads/2017/08/24/107738-colorful-umbrella.jpg\n",
            "[%] File Downloaded !\n",
            "\n",
            "[%] Downloading Image #15 from https://cdn11.bigcommerce.com/s-z08vnoc1re/images/stencil/2000x2000/products/740/1902/umbrellasweb__36207.1506450684.jpg?c=2\n",
            "[%] File Downloaded !\n",
            "\n",
            "[%] Downloading Image #16 from https://img5.goodfon.com/wallpaper/nbig/0/20/rainbow-colorful-colors-tsvet-zont-umbrella-raduga-nebo.jpg\n",
            "[%] File Downloaded !\n",
            "\n",
            "[%] Downloading Image #17 from https://backiee.com/static/wpdb/wallpapers/1920x1080/205715.jpg\n",
            "[%] File Downloaded !\n",
            "\n",
            "[%] Downloading Image #18 from https://i.pinimg.com/originals/08/45/b8/0845b873a21371f2f4ac6af1c8fa33a1.png\n",
            "[%] File Downloaded !\n",
            "\n",
            "[%] Downloading Image #19 from http://media-cache-ak0.pinimg.com/736x/d2/82/07/d2820721324e186496df92526443e6b8.jpg\n",
            "[%] File Downloaded !\n",
            "\n",
            "[%] Downloading Image #20 from https://www.concordmonitor.com/getattachment/2648f280-6c78-476e-8bf2-692b0894b80a/umbrellas-cm-050617-ph01\n",
            "[Error]Invalid image, not saving https://www.concordmonitor.com/getattachment/2648f280-6c78-476e-8bf2-692b0894b80a/umbrellas-cm-050617-ph01\n",
            "\n",
            "[!] Issue getting: https://www.concordmonitor.com/getattachment/2648f280-6c78-476e-8bf2-692b0894b80a/umbrellas-cm-050617-ph01\n",
            "[!] Error:: No active exception to reraise\n",
            "[%] Downloading Image #20 from https://i.redd.it/ris55lzk2l421.jpg\n",
            "[%] File Downloaded !\n",
            "\n",
            "[%] Downloading Image #21 from https://i.pinimg.com/originals/c4/13/a5/c413a5def5da7afc16f2417e3e7b05e3.jpg\n",
            "[%] File Downloaded !\n",
            "\n",
            "[%] Downloading Image #22 from https://images.pexels.com/photos/2131099/pexels-photo-2131099.jpeg?cs=srgb&amp;dl=colorful-umbrellas-2131099.jpg&amp;fm=jpg\n",
            "[%] File Downloaded !\n",
            "\n",
            "[%] Downloading Image #23 from https://www.publicdomainpictures.net/pictures/110000/velka/colorful-umbrella.jpg\n",
            "[%] File Downloaded !\n",
            "\n",
            "[%] Downloading Image #24 from https://images.fineartamerica.com/images/artworkimages/mediumlarge/1/colorful-umbrellas-interior-top-view-cool-rain-umbrellas-for-beach-cover-background-bluegreenred-boris-kissov.jpg\n",
            "[%] File Downloaded !\n",
            "\n",
            "[%] Downloading Image #25 from https://ae01.alicdn.com/kf/HTB1MTaROXXXXXXNXVXXq6xXFXXXZ/1-pc-Creative-Rainbow-Umbrella-Big-Umbrella-Straight-Three-Folding-Colorful-Handle-Sunny-And-Rainy-Umbrella.jpg\n",
            "[%] File Downloaded !\n",
            "\n",
            "[%] Downloading Image #26 from https://static.superiorwallpapers.com/images/lthumbs/2015-07/10390_Many-colorful-umbrellas-HD-wallpaper.jpg\n",
            "[%] File Downloaded !\n",
            "\n",
            "[%] Downloading Image #27 from https://gadgetflowcdn.com/wp-content/uploads/2014/01/Color-Wheel-Umbrella-1.jpg\n",
            "[%] File Downloaded !\n",
            "\n",
            "[%] Downloading Image #28 from https://5.imimg.com/data5/TC/QS/MY-11252598/colorful-umbrella-500x500.jpg\n",
            "[%] File Downloaded !\n",
            "\n",
            "\n",
            "\n",
            "[!!]Indexing page: 2\n",
            "\n",
            "[%] Indexed 35 Images on Page 2.\n",
            "\n",
            "===============================================\n",
            "\n",
            "[%] Downloading Image #29 from https://images5.alphacoders.com/102/1020345.jpg\n",
            "[!] Issue getting: https://images5.alphacoders.com/102/1020345.jpg\n",
            "[!] Error:: HTTP Error 403: Forbidden\n",
            "[%] Downloading Image #29 from http://2.bp.blogspot.com/-5sEvUJ-8_pg/USuneiV9XuI/AAAAAAAATuc/pt6j6lDg6ps/s1600/Colorful+Umbrellas+Wallpapers+7.jpg\n",
            "[%] File Downloaded !\n",
            "\n",
            "[%] Downloading Image #30 from https://4.bp.blogspot.com/-hj4z_Ax1G6Q/USunJ1gDtCI/AAAAAAAATt8/jd0j0K-lzD8/s1600/Colorful+Umbrellas+Wallpapers+1.jpg\n",
            "[%] File Downloaded !\n",
            "\n",
            "\n",
            "\n",
            "[%] Done. Downloaded 30 images.\n",
            "\n",
            "===============================================\n",
            "\n",
            "time: 43.6 s (started: 2021-05-13 03:09:57 +00:00)\n"
          ],
          "name": "stdout"
        }
      ]
    },
    {
      "cell_type": "code",
      "metadata": {
        "colab": {
          "base_uri": "https://localhost:8080/"
        },
        "id": "XgI_eEr-jZla",
        "outputId": "7a087e37-a9e0-4f24-c7fc-e4d66004bd09"
      },
      "source": [
        "from bing_image_downloader import downloader\n",
        "downloader.download(\"Dancing Peacock\",limit=30,output_dir='images',adult_filter_off=True)"
      ],
      "execution_count": null,
      "outputs": [
        {
          "output_type": "stream",
          "text": [
            "\n",
            "\n",
            "[!!]Indexing page: 1\n",
            "\n",
            "[%] Indexed 30 Images on Page 1.\n",
            "\n",
            "===============================================\n",
            "\n",
            "[%] Downloading Image #1 from https://i.ytimg.com/vi/lNQoPNsRnMI/maxresdefault.jpg\n",
            "[%] File Downloaded !\n",
            "\n",
            "[%] Downloading Image #2 from https://drscdn.500px.org/photo/16843433/q%3D80_m%3D2000/v2?webp=true&amp;sig=1df3936e8be5e067f9f56ac99cc9f1c94c7937ac8371ccfb83387593dda4dc71\n",
            "[!] Issue getting: https://drscdn.500px.org/photo/16843433/q%3D80_m%3D2000/v2?webp=true&amp;sig=1df3936e8be5e067f9f56ac99cc9f1c94c7937ac8371ccfb83387593dda4dc71\n",
            "[!] Error:: HTTP Error 403: \n",
            "[%] Downloading Image #2 from https://upload.wikimedia.org/wikipedia/commons/e/e5/Dancing_Peacock-_At_Sariska%2C_Rajasthan%2C_India.jpg\n",
            "[%] File Downloaded !\n",
            "\n",
            "[%] Downloading Image #3 from https://upload.wikimedia.org/wikipedia/commons/2/2c/Peacock_Dance.jpg\n",
            "[%] File Downloaded !\n",
            "\n",
            "[%] Downloading Image #4 from https://i.pinimg.com/originals/d4/65/55/d465558313a4d7875783a637c9681337.jpg\n",
            "[%] File Downloaded !\n",
            "\n",
            "[%] Downloading Image #5 from https://thebiharpost.com/wp-content/uploads/2016/03/peacock-2.jpg\n",
            "[%] File Downloaded !\n",
            "\n",
            "[%] Downloading Image #6 from http://farm1.staticflickr.com/90/231011405_880600e742_z.jpg\n",
            "[%] File Downloaded !\n",
            "\n",
            "[%] Downloading Image #7 from http://farm8.staticflickr.com/7066/6805109134_70cb04268d_z.jpg\n",
            "[%] File Downloaded !\n",
            "\n",
            "[%] Downloading Image #8 from https://d33wubrfki0l68.cloudfront.net/b46b9334e82ad238c35bf7d0bac1d97e9e295a26/186f7/wordpress/wp-content/uploads/2000/09/exotic-peacock.jpg\n",
            "[%] File Downloaded !\n",
            "\n",
            "[%] Downloading Image #9 from http://3.bp.blogspot.com/-qIghlyhk2dg/TyI1OpGtO9I/AAAAAAAAA-8/iCXf0WHXqVc/s1600/peacockstrut.jpg\n",
            "[%] File Downloaded !\n",
            "\n",
            "[%] Downloading Image #10 from https://images.pexels.com/photos/672329/pexels-photo-672329.jpeg?cs=srgb&amp;dl=dancing-indian-peacock-peacock-672329.jpg&amp;fm=jpg\n",
            "[%] File Downloaded !\n",
            "\n",
            "[%] Downloading Image #11 from https://images.fineartamerica.com/images/artworkimages/mediumlarge/2/dancing-indian-peacock-awais-yaqub.jpg\n",
            "[%] File Downloaded !\n",
            "\n",
            "[%] Downloading Image #12 from http://images.fineartamerica.com/images-medium-large/peacock-dancing-pravine-chester.jpg\n",
            "[%] File Downloaded !\n",
            "\n",
            "[%] Downloading Image #13 from http://3.bp.blogspot.com/-WmqgmqQuhYU/UqC-46kN8kI/AAAAAAAABC4/kZ3tnRUxbMc/s1600/Dancing-Peacock-Hd-Wallpaper98.jpeg\n",
            "[%] File Downloaded !\n",
            "\n",
            "[%] Downloading Image #14 from http://walkthewilderness.net/wp-content/uploads/2020/05/Dancing-Peacock-in-Kabini-1.jpg\n",
            "[%] File Downloaded !\n",
            "\n",
            "[%] Downloading Image #15 from https://farm9.staticflickr.com/8305/7871633394_84b9cc109b_z.jpg\n",
            "[%] File Downloaded !\n",
            "\n",
            "[%] Downloading Image #16 from https://i.ytimg.com/vi/LirdaesBepM/maxresdefault.jpg\n",
            "[%] File Downloaded !\n",
            "\n",
            "[%] Downloading Image #17 from http://www.reportingday.com/wp-content/uploads/2018/06/Dancing-Peacock-HD-Images.jpg\n",
            "[%] File Downloaded !\n",
            "\n",
            "[%] Downloading Image #18 from https://i.ytimg.com/vi/yTKer5Ka11c/maxresdefault.jpg\n",
            "[%] File Downloaded !\n",
            "\n",
            "[%] Downloading Image #19 from https://i.ytimg.com/vi/daaGmPwsiUY/maxresdefault.jpg\n",
            "[%] File Downloaded !\n",
            "\n",
            "[%] Downloading Image #20 from http://www.excitingindia.in/wp-content/uploads/2015/01/dancing-peacock.jpg\n",
            "[%] File Downloaded !\n",
            "\n",
            "[%] Downloading Image #21 from https://i1.treknature.com/photos/4304/dsc06818.jpg\n",
            "[%] File Downloaded !\n",
            "\n",
            "[%] Downloading Image #22 from https://i.ytimg.com/vi/GKugJhQP45U/maxresdefault.jpg\n",
            "[%] File Downloaded !\n",
            "\n",
            "[%] Downloading Image #23 from http://farm3.staticflickr.com/2747/4235647425_28973852fc_z.jpg\n",
            "[%] File Downloaded !\n",
            "\n",
            "[%] Downloading Image #24 from https://thumbs.dreamstime.com/b/dancing-peacock-male-seen-ranthambhore-national-park-june-june-mating-season-peacocks-41579591.jpg\n",
            "[%] File Downloaded !\n",
            "\n",
            "[%] Downloading Image #25 from http://www.ranthambhoreguides.com/static/thumbnail?h=900&amp;w=900&amp;f=XZnSTENRucaGKR_Q1BuaQg52Tfe3wdOG.JPG\n",
            "[!] Issue getting: http://www.ranthambhoreguides.com/static/thumbnail?h=900&amp;w=900&amp;f=XZnSTENRucaGKR_Q1BuaQg52Tfe3wdOG.JPG\n",
            "[!] Error:: HTTP Error 400: Bad Request\n",
            "[%] Downloading Image #25 from https://i.ytimg.com/vi/QoXtkREVrp8/hqdefault.jpg\n",
            "[%] File Downloaded !\n",
            "\n",
            "[%] Downloading Image #26 from https://i.rmbl.ws/s8/6/n/4/Q/9/n4Q9a.qR4e.2.jpg\n",
            "[%] File Downloaded !\n",
            "\n",
            "[%] Downloading Image #27 from http://img15.deviantart.net/dc20/i/2007/107/2/4/dancing_peacock_by_shelly349.jpg\n",
            "[%] File Downloaded !\n",
            "\n",
            "[%] Downloading Image #28 from https://farm8.staticflickr.com/7116/7458923640_bbd6a67064_b.jpg\n",
            "[%] File Downloaded !\n",
            "\n",
            "\n",
            "\n",
            "[!!]Indexing page: 2\n",
            "\n",
            "[%] Indexed 35 Images on Page 2.\n",
            "\n",
            "===============================================\n",
            "\n",
            "[%] Downloading Image #29 from https://i.ytimg.com/vi/lNQoPNsRnMI/maxresdefault.jpg\n",
            "[%] File Downloaded !\n",
            "\n",
            "[%] Downloading Image #30 from https://drscdn.500px.org/photo/16843433/q%3D80_m%3D2000/v2?webp=true&amp;sig=1df3936e8be5e067f9f56ac99cc9f1c94c7937ac8371ccfb83387593dda4dc71\n",
            "[!] Issue getting: https://drscdn.500px.org/photo/16843433/q%3D80_m%3D2000/v2?webp=true&amp;sig=1df3936e8be5e067f9f56ac99cc9f1c94c7937ac8371ccfb83387593dda4dc71\n",
            "[!] Error:: HTTP Error 403: \n",
            "[%] Downloading Image #30 from https://upload.wikimedia.org/wikipedia/commons/e/e5/Dancing_Peacock-_At_Sariska%2C_Rajasthan%2C_India.jpg\n",
            "[%] File Downloaded !\n",
            "\n",
            "\n",
            "\n",
            "[%] Done. Downloaded 30 images.\n",
            "\n",
            "===============================================\n",
            "\n",
            "time: 22.8 s (started: 2021-05-13 03:10:43 +00:00)\n"
          ],
          "name": "stdout"
        }
      ]
    },
    {
      "cell_type": "code",
      "metadata": {
        "colab": {
          "base_uri": "https://localhost:8080/"
        },
        "id": "Fdv2Lc2SjfuN",
        "outputId": "c545a17a-fd42-4557-b6c1-41f2038a248f"
      },
      "source": [
        "from bing_image_downloader import downloader\n",
        "downloader.download(\"Pretty Sun Flower\",limit=30,output_dir='images',adult_filter_off=True)"
      ],
      "execution_count": null,
      "outputs": [
        {
          "output_type": "stream",
          "text": [
            "\n",
            "\n",
            "[!!]Indexing page: 1\n",
            "\n",
            "[%] Indexed 30 Images on Page 1.\n",
            "\n",
            "===============================================\n",
            "\n",
            "[%] Downloading Image #1 from https://preppywallpapers.com/wp-content/uploads/2019/08/Sunflower-iPhone-Wallpapers.jpg\n",
            "[%] File Downloaded !\n",
            "\n",
            "[%] Downloading Image #2 from http://4.bp.blogspot.com/_W5lGWFz2VV4/TK5PqUu-ZTI/AAAAAAAAA-Q/rQXb9VnKUDc/s1600/_MG_3422+copy.jpg\n",
            "[%] File Downloaded !\n",
            "\n",
            "[%] Downloading Image #3 from https://4.bp.blogspot.com/-Uh1HTy66p7I/TkY6vYCvWjI/AAAAAAAAD0c/ny_MXcFowLE/s1600/sunflower_wallpaper_2069.JPG\n",
            "[%] File Downloaded !\n",
            "\n",
            "[%] Downloading Image #4 from https://cdns.abclocal.go.com/content/wtvd/images/cms/2185472_1280x720.jpg\n",
            "[%] File Downloaded !\n",
            "\n",
            "[%] Downloading Image #5 from http://www.incrediblesnaps.com/wp-content/uploads/2013/11/Beautiful-Pictures-of-Sunflowers-1.jpg\n",
            "[%] File Downloaded !\n",
            "\n",
            "[%] Downloading Image #6 from https://i.pinimg.com/originals/ca/38/d2/ca38d254b1ef1b98be9ebb2d743a1319.jpg\n",
            "[%] File Downloaded !\n",
            "\n",
            "[%] Downloading Image #7 from https://i.pinimg.com/originals/5a/70/49/5a70497d32b8d691cb2273b53eb987a8.jpg\n",
            "[%] File Downloaded !\n",
            "\n",
            "[%] Downloading Image #8 from http://herviewfromhome.com/wp-content/uploads/2012/07/sunflower.jpg\n",
            "[%] File Downloaded !\n",
            "\n",
            "[%] Downloading Image #9 from https://preppywallpapers.com/wp-content/uploads/2019/08/Sunflower-iPhone-Wallpaper-6.jpg\n",
            "[%] File Downloaded !\n",
            "\n",
            "[%] Downloading Image #10 from http://1.bp.blogspot.com/-xIkAesKxBLA/TkY6hunS5II/AAAAAAAAD0I/S7uVZX1qf-4/s1600/sunflower_wallpaper_2064.jpg\n",
            "[%] File Downloaded !\n",
            "\n",
            "[%] Downloading Image #11 from https://i.pinimg.com/originals/bc/f7/52/bcf752b5a8b3af49039c9c10e820cbc4.jpg\n",
            "[%] File Downloaded !\n",
            "\n",
            "[%] Downloading Image #12 from http://getwallpapers.com/wallpaper/full/3/0/0/820319-download-sunflowers-wallpaper-2048x1361-lockscreen.jpg\n",
            "[%] File Downloaded !\n",
            "\n",
            "[%] Downloading Image #13 from https://preppywallpapers.com/wp-content/uploads/2019/08/Sunflower-iPhone-Wallpaper-10.jpg\n",
            "[%] File Downloaded !\n",
            "\n",
            "[%] Downloading Image #14 from https://i.pinimg.com/originals/9c/02/5b/9c025b5c0a26aff3da57515b357493c8.jpg\n",
            "[%] File Downloaded !\n",
            "\n",
            "[%] Downloading Image #15 from https://i.pinimg.com/originals/3f/f0/1d/3ff01d5b9f1f16e92197140a31c5345e.jpg\n",
            "[%] File Downloaded !\n",
            "\n",
            "[%] Downloading Image #16 from https://i.pinimg.com/originals/6b/83/9d/6b839df2b06a8fa80f478ecdc01753ad.jpg\n",
            "[%] File Downloaded !\n",
            "\n",
            "[%] Downloading Image #17 from https://i.pinimg.com/originals/e1/05/83/e10583609e9b146022a51f34ced98536.jpg\n",
            "[%] File Downloaded !\n",
            "\n",
            "[%] Downloading Image #18 from https://i.pinimg.com/originals/d2/44/f2/d244f23d41459219f564ad29abd9a217.jpg\n",
            "[%] File Downloaded !\n",
            "\n",
            "[%] Downloading Image #19 from http://upload.wikimedia.org/wikipedia/commons/3/34/Beautiful_sunflowers.jpg\n",
            "[%] File Downloaded !\n",
            "\n",
            "[%] Downloading Image #20 from https://i.pinimg.com/originals/9c/d9/de/9cd9de355de8b69e9e4433d1e23bd731.jpg\n",
            "[%] File Downloaded !\n",
            "\n",
            "[%] Downloading Image #21 from http://getwallpapers.com/wallpaper/full/3/9/a/820263-most-popular-sunflowers-wallpaper-1080x1920-windows.jpg\n",
            "[%] File Downloaded !\n",
            "\n",
            "[%] Downloading Image #22 from https://i.pinimg.com/736x/ce/0d/3d/ce0d3dd49836e6074ab59fe37d34cf73.jpg\n",
            "[%] File Downloaded !\n",
            "\n",
            "[%] Downloading Image #23 from http://1.bp.blogspot.com/-OH_vFaXwb7g/UcnPuvey22I/AAAAAAAABSY/khlYIhIDVrg/s1600/sunny-yellow-sunflower-blossom.jpg\n",
            "[%] File Downloaded !\n",
            "\n",
            "[%] Downloading Image #24 from http://www.flowerspictures.org/image/flowers/sunflowers/pretty-sunflower.jpg\n",
            "[%] File Downloaded !\n",
            "\n",
            "[%] Downloading Image #25 from https://s-media-cache-ak0.pinimg.com/736x/05/23/8c/05238c4cd8e098bd126c1cee9c706806--sun-flowers-pretty-flowers.jpg\n",
            "[%] File Downloaded !\n",
            "\n",
            "[%] Downloading Image #26 from http://www.incrediblesnaps.com/wp-content/uploads/2013/11/Beautiful-Pictures-of-Sunflowers-12.jpg\n",
            "[%] File Downloaded !\n",
            "\n",
            "[%] Downloading Image #27 from http://garden.org/pics/2013-12-19/Newyorkrita/38d0cc.jpg\n",
            "[%] File Downloaded !\n",
            "\n",
            "[%] Downloading Image #28 from https://i.pinimg.com/originals/d2/fd/0c/d2fd0c237ef41f284d8e8d71b87f5eeb.jpg\n",
            "[%] File Downloaded !\n",
            "\n",
            "[%] Downloading Image #29 from https://i.pinimg.com/originals/19/59/32/195932e527c4cd0542d80f02c0af48ca.jpg\n",
            "[%] File Downloaded !\n",
            "\n",
            "[%] Downloading Image #30 from http://3.bp.blogspot.com/-XpTUOHTbx8g/Ucd8U8Azp2I/AAAAAAAABPU/zzJA73GCrvw/s1600/2-pretty-sunflower-blossoms.jpg\n",
            "[%] File Downloaded !\n",
            "\n",
            "time: 14 s (started: 2021-05-13 03:11:06 +00:00)\n"
          ],
          "name": "stdout"
        }
      ]
    },
    {
      "cell_type": "code",
      "metadata": {
        "colab": {
          "base_uri": "https://localhost:8080/"
        },
        "id": "ASr9oDocjncQ",
        "outputId": "68d2231a-6682-4329-e9bb-e0e126c654b3"
      },
      "source": [
        "import os\n",
        "import matplotlib.pyplot as plt\n",
        "import numpy as np\n",
        "from skimage.io import imread\n",
        "from skimage.transform import resize\n",
        "target = []\n",
        "images = []\n",
        "flat_data = []\n",
        "DATADIR = '/content/images'\n",
        "CATEGORIES = ['Super Cars','Dirt Bikes','Colorful Umbrellas','Dancing Peacock','Pretty Sun Flower']\n",
        "for category in CATEGORIES:\n",
        "  class_num = CATEGORIES.index(category)\n",
        "  path = os.path.join(DATADIR,category)\n",
        "  for img in os.listdir(path):\n",
        "    img_array = imread(os.path.join(path,img))\n",
        "    img_resized = resize(img_array,(150,150,3))\n",
        "    flat_data.append(img_resized.flatten())\n",
        "    images.append(img_resized)\n",
        "    target.append(class_num)\n",
        "\n",
        "flat_data = np.array(flat_data)\n",
        "target = np.array(target)\n",
        "images = np.array(images)    "
      ],
      "execution_count": null,
      "outputs": [
        {
          "output_type": "stream",
          "text": [
            "time: 2min 13s (started: 2021-05-13 03:11:27 +00:00)\n"
          ],
          "name": "stdout"
        }
      ]
    },
    {
      "cell_type": "code",
      "metadata": {
        "colab": {
          "base_uri": "https://localhost:8080/"
        },
        "id": "oVXH3fxYkOHp",
        "outputId": "516fa100-f147-47df-eb10-96649465f8c2"
      },
      "source": [
        "len(flat_data[0])"
      ],
      "execution_count": null,
      "outputs": [
        {
          "output_type": "execute_result",
          "data": {
            "text/plain": [
              "67500"
            ]
          },
          "metadata": {
            "tags": []
          },
          "execution_count": 11
        },
        {
          "output_type": "stream",
          "text": [
            "time: 4.63 ms (started: 2021-05-13 03:14:06 +00:00)\n"
          ],
          "name": "stdout"
        }
      ]
    },
    {
      "cell_type": "code",
      "metadata": {
        "colab": {
          "base_uri": "https://localhost:8080/"
        },
        "id": "rEG8mFbzkQX6",
        "outputId": "45a5b0ed-3a2f-4cd6-ec9f-afc8a9a031c4"
      },
      "source": [
        "target"
      ],
      "execution_count": null,
      "outputs": [
        {
          "output_type": "execute_result",
          "data": {
            "text/plain": [
              "array([0, 0, 0, 0, 0, 0, 0, 0, 0, 0, 0, 0, 0, 0, 0, 0, 0, 0, 0, 0, 0, 0,\n",
              "       0, 0, 0, 0, 0, 0, 0, 0, 1, 1, 1, 1, 1, 1, 1, 1, 1, 1, 1, 1, 1, 1,\n",
              "       1, 1, 1, 1, 1, 1, 1, 1, 1, 1, 1, 1, 1, 1, 1, 1, 2, 2, 2, 2, 2, 2,\n",
              "       2, 2, 2, 2, 2, 2, 2, 2, 2, 2, 2, 2, 2, 2, 2, 2, 2, 2, 2, 2, 2, 2,\n",
              "       2, 2, 3, 3, 3, 3, 3, 3, 3, 3, 3, 3, 3, 3, 3, 3, 3, 3, 3, 3, 3, 3,\n",
              "       3, 3, 3, 3, 3, 3, 3, 3, 3, 3, 4, 4, 4, 4, 4, 4, 4, 4, 4, 4, 4, 4,\n",
              "       4, 4, 4, 4, 4, 4, 4, 4, 4, 4, 4, 4, 4, 4, 4, 4, 4, 4])"
            ]
          },
          "metadata": {
            "tags": []
          },
          "execution_count": 12
        },
        {
          "output_type": "stream",
          "text": [
            "time: 6.69 ms (started: 2021-05-13 03:14:08 +00:00)\n"
          ],
          "name": "stdout"
        }
      ]
    },
    {
      "cell_type": "code",
      "metadata": {
        "colab": {
          "base_uri": "https://localhost:8080/",
          "height": 299
        },
        "id": "928LuPK-kT1N",
        "outputId": "9ea5a08e-b376-4ed3-ec9e-1fa64fb16189"
      },
      "source": [
        "unique,count = np.unique(target,return_counts=True)\n",
        "plt.bar(CATEGORIES,count)"
      ],
      "execution_count": null,
      "outputs": [
        {
          "output_type": "execute_result",
          "data": {
            "text/plain": [
              "<BarContainer object of 5 artists>"
            ]
          },
          "metadata": {
            "tags": []
          },
          "execution_count": 13
        },
        {
          "output_type": "display_data",
          "data": {
            "image/png": "[encoded data removed]",
            "text/plain": [
              "<Figure size 432x288 with 1 Axes>"
            ]
          },
          "metadata": {
            "tags": [],
            "needs_background": "light"
          }
        },
        {
          "output_type": "stream",
          "text": [
            "time: 176 ms (started: 2021-05-13 03:14:10 +00:00)\n"
          ],
          "name": "stdout"
        }
      ]
    },
    {
      "cell_type": "code",
      "metadata": {
        "colab": {
          "base_uri": "https://localhost:8080/"
        },
        "id": "8LfT5B0EkVwC",
        "outputId": "419719aa-c4f9-4ca7-e27d-94745f68e516"
      },
      "source": [
        "from sklearn.model_selection import train_test_split\n",
        "x_train,x_test,y_train,y_test = train_test_split(flat_data,target,test_size=0.3,random_state=109)"
      ],
      "execution_count": null,
      "outputs": [
        {
          "output_type": "stream",
          "text": [
            "time: 161 ms (started: 2021-05-13 03:14:13 +00:00)\n"
          ],
          "name": "stdout"
        }
      ]
    },
    {
      "cell_type": "code",
      "metadata": {
        "colab": {
          "base_uri": "https://localhost:8080/"
        },
        "id": "QPOpcU_zkdjk",
        "outputId": "76dd76d9-aed3-4be9-a9bf-3422b31dfe77"
      },
      "source": [
        "from sklearn.model_selection import GridSearchCV\n",
        "from sklearn import svm\n",
        "param_grid = [\n",
        "              {'C':[1,10,100,1000],'kernel':['linear']},\n",
        "              {'C':[1,10,100,1000],'gamma':[0.001,0.0001],'kernel':['rbf']},\n",
        "]\n",
        "\n",
        "svc = svm.SVC(probability=True)\n",
        "clf = GridSearchCV(svc,param_grid)\n",
        "clf.fit(x_train,y_train)"
      ],
      "execution_count": null,
      "outputs": [
        {
          "output_type": "execute_result",
          "data": {
            "text/plain": [
              "GridSearchCV(cv=None, error_score=nan,\n",
              "             estimator=SVC(C=1.0, break_ties=False, cache_size=200,\n",
              "                           class_weight=None, coef0=0.0,\n",
              "                           decision_function_shape='ovr', degree=3,\n",
              "                           gamma='scale', kernel='rbf', max_iter=-1,\n",
              "                           probability=True, random_state=None, shrinking=True,\n",
              "                           tol=0.001, verbose=False),\n",
              "             iid='deprecated', n_jobs=None,\n",
              "             param_grid=[{'C': [1, 10, 100, 1000], 'kernel': ['linear']},\n",
              "                         {'C': [1, 10, 100, 1000], 'gamma': [0.001, 0.0001],\n",
              "                          'kernel': ['rbf']}],\n",
              "             pre_dispatch='2*n_jobs', refit=True, return_train_score=False,\n",
              "             scoring=None, verbose=0)"
            ]
          },
          "metadata": {
            "tags": []
          },
          "execution_count": 15
        },
        {
          "output_type": "stream",
          "text": [
            "time: 6min 31s (started: 2021-05-13 03:14:16 +00:00)\n"
          ],
          "name": "stdout"
        }
      ]
    },
    {
      "cell_type": "code",
      "metadata": {
        "colab": {
          "base_uri": "https://localhost:8080/"
        },
        "id": "jEgByWPyk7N6",
        "outputId": "8090af4d-76c1-4d48-90d2-fd0c3f3bc550"
      },
      "source": [
        "y_pred = clf.predict(x_test)\n",
        "y_pred"
      ],
      "execution_count": null,
      "outputs": [
        {
          "output_type": "execute_result",
          "data": {
            "text/plain": [
              "array([4, 2, 4, 1, 4, 1, 1, 4, 2, 4, 4, 1, 0, 0, 0, 0, 2, 3, 0, 2, 2, 1,\n",
              "       4, 0, 1, 1, 4, 2, 1, 2, 0, 3, 2, 4, 4, 0, 1, 3, 4, 1, 3, 2, 3, 3,\n",
              "       0])"
            ]
          },
          "metadata": {
            "tags": []
          },
          "execution_count": 16
        },
        {
          "output_type": "stream",
          "text": [
            "time: 522 ms (started: 2021-05-13 03:21:29 +00:00)\n"
          ],
          "name": "stdout"
        }
      ]
    },
    {
      "cell_type": "code",
      "metadata": {
        "colab": {
          "base_uri": "https://localhost:8080/"
        },
        "id": "MV0uLmvIk82X",
        "outputId": "b0ff370b-d912-4072-a31c-85644e432045"
      },
      "source": [
        "y_test"
      ],
      "execution_count": null,
      "outputs": [
        {
          "output_type": "execute_result",
          "data": {
            "text/plain": [
              "array([4, 2, 4, 0, 4, 2, 1, 4, 1, 4, 4, 1, 1, 0, 0, 0, 2, 3, 0, 2, 2, 0,\n",
              "       4, 0, 1, 2, 4, 2, 1, 4, 3, 3, 2, 4, 4, 2, 1, 3, 4, 2, 3, 1, 3, 3,\n",
              "       0])"
            ]
          },
          "metadata": {
            "tags": []
          },
          "execution_count": 17
        },
        {
          "output_type": "stream",
          "text": [
            "time: 7.11 ms (started: 2021-05-13 03:21:32 +00:00)\n"
          ],
          "name": "stdout"
        }
      ]
    },
    {
      "cell_type": "code",
      "metadata": {
        "colab": {
          "base_uri": "https://localhost:8080/"
        },
        "id": "EiJgmahtk-fN",
        "outputId": "71cfda28-6513-43d6-f281-b8118f3d1d84"
      },
      "source": [
        "from sklearn.metrics import accuracy_score,confusion_matrix"
      ],
      "execution_count": null,
      "outputs": [
        {
          "output_type": "stream",
          "text": [
            "time: 819 µs (started: 2021-05-13 03:21:34 +00:00)\n"
          ],
          "name": "stdout"
        }
      ]
    },
    {
      "cell_type": "code",
      "metadata": {
        "colab": {
          "base_uri": "https://localhost:8080/"
        },
        "id": "OxrJIuUflAb0",
        "outputId": "1ef93e92-5c7d-43b0-9496-61d9c7104820"
      },
      "source": [
        "accuracy_score(y_pred,y_test)"
      ],
      "execution_count": null,
      "outputs": [
        {
          "output_type": "execute_result",
          "data": {
            "text/plain": [
              "0.7555555555555555"
            ]
          },
          "metadata": {
            "tags": []
          },
          "execution_count": 19
        },
        {
          "output_type": "stream",
          "text": [
            "time: 5.52 ms (started: 2021-05-13 03:21:38 +00:00)\n"
          ],
          "name": "stdout"
        }
      ]
    },
    {
      "cell_type": "code",
      "metadata": {
        "colab": {
          "base_uri": "https://localhost:8080/"
        },
        "id": "-vKhONfVlCo0",
        "outputId": "6b503e90-05c4-43c1-e266-6c86c42b19fa"
      },
      "source": [
        "confusion_matrix(y_pred,y_test)"
      ],
      "execution_count": null,
      "outputs": [
        {
          "output_type": "execute_result",
          "data": {
            "text/plain": [
              "array([[ 6,  1,  1,  1,  0],\n",
              "       [ 2,  5,  3,  0,  0],\n",
              "       [ 0,  2,  6,  0,  1],\n",
              "       [ 0,  0,  0,  6,  0],\n",
              "       [ 0,  0,  0,  0, 11]])"
            ]
          },
          "metadata": {
            "tags": []
          },
          "execution_count": 20
        },
        {
          "output_type": "stream",
          "text": [
            "time: 5.41 ms (started: 2021-05-13 03:21:43 +00:00)\n"
          ],
          "name": "stdout"
        }
      ]
    },
    {
      "cell_type": "code",
      "metadata": {
        "colab": {
          "base_uri": "https://localhost:8080/"
        },
        "id": "l65sBO3SlExD",
        "outputId": "bfbceb8e-564f-402c-a6ff-4849104147bc"
      },
      "source": [
        "import pickle\n",
        "pickle.dump(clf,open('img_model.p','wb'))"
      ],
      "execution_count": null,
      "outputs": [
        {
          "output_type": "stream",
          "text": [
            "time: 66.7 ms (started: 2021-05-13 03:21:49 +00:00)\n"
          ],
          "name": "stdout"
        }
      ]
    },
    {
      "cell_type": "code",
      "metadata": {
        "colab": {
          "base_uri": "https://localhost:8080/"
        },
        "id": "2yIuxnnBlG83",
        "outputId": "7edc8fb7-a5bf-4df3-f3dd-618d83b2cc3b"
      },
      "source": [
        "model = pickle.load(open('img_model.p','rb'))"
      ],
      "execution_count": null,
      "outputs": [
        {
          "output_type": "stream",
          "text": [
            "time: 34.1 ms (started: 2021-05-13 03:21:54 +00:00)\n"
          ],
          "name": "stdout"
        }
      ]
    },
    {
      "cell_type": "code",
      "metadata": {
        "colab": {
          "base_uri": "https://localhost:8080/",
          "height": 337
        },
        "id": "xnHERQrolJU9",
        "outputId": "c92967cd-5ec0-4c7c-e280-79a5b0b92c9a"
      },
      "source": [
        "flat_data = []\n",
        "url = input('Give the URL of image')\n",
        "img = imread(url)\n",
        "img_resized = resize(img,(150,150,3))\n",
        "flat_data.append(img_resized.flatten())\n",
        "flat_data = np.array(flat_data)\n",
        "print(img.shape)\n",
        "plt.imshow(img_resized)\n",
        "y_out=model.predict(flat_data)\n",
        "y_out=CATEGORIES[y_out[0]]\n",
        "print(f'PREDICTION IS : {y_out}')"
      ],
      "execution_count": null,
      "outputs": [
        {
          "output_type": "stream",
          "text": [
            "Give the URL of imagehttps://dn3bmh8yk8vvw.cloudfront.net/aqe4DgSBGFJdWT80Mp7n31OoXkQ=/production-38535-XnKTTeA9AmMX-YamahaYZ450FX.jpg\n",
            "(1080, 1920, 3)\n",
            "PREDICTION IS : Dirt Bikes\n"
          ],
          "name": "stdout"
        },
        {
          "output_type": "display_data",
          "data": {
            "image/png": "[encoded data removed]",
            "text/plain": [
              "<Figure size 432x288 with 1 Axes>"
            ]
          },
          "metadata": {
            "tags": [],
            "needs_background": "light"
          }
        },
        {
          "output_type": "stream",
          "text": [
            "time: 18.6 s (started: 2021-05-13 05:39:30 +00:00)\n"
          ],
          "name": "stdout"
        }
      ]
    }
  ]
}